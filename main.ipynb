{
 "cells": [
  {
   "cell_type": "markdown",
   "source": [
    "# Read data"
   ],
   "metadata": {
    "collapsed": false,
    "pycharm": {
     "name": "#%% md\n"
    }
   }
  },
  {
   "cell_type": "code",
   "execution_count": 35,
   "outputs": [
    {
     "name": "stdout",
     "output_type": "stream",
     "text": [
      "The autoreload extension is already loaded. To reload it, use:\n",
      "  %reload_ext autoreload\n"
     ]
    }
   ],
   "source": [
    "import torch\n",
    "from torch.utils.data import DataLoader\n",
    "from torch import nn\n",
    "from torch import optim\n",
    "from torchsummary import summary\n",
    "import re\n",
    "\n",
    "from src.model import MovieRater_Simple\n",
    "from src.data_loader import Rating_Dataset\n",
    "from src.train import Learner\n",
    "from src.configs import *\n",
    "\n",
    "%load_ext autoreload\n",
    "%autoreload 2"
   ],
   "metadata": {
    "collapsed": false,
    "pycharm": {
     "name": "#%%\n"
    }
   }
  },
  {
   "cell_type": "code",
   "execution_count": 36,
   "outputs": [
    {
     "name": "stderr",
     "output_type": "stream",
     "text": [
      "/Users/alextrasza/Alex/直通硅谷/Recommendation System/MovieLens100K/src/train.py:157: NeptuneDeprecationWarning: `init` is deprecated, use `init_run` instead. We'll end support of it in `neptune-client==1.0.0`.\n",
      "  run = neptune.init(\n"
     ]
    },
    {
     "name": "stdout",
     "output_type": "stream",
     "text": [
      "https://app.neptune.ai/alexyannn/movielens100k/e/MOV-19\n"
     ]
    },
    {
     "name": "stderr",
     "output_type": "stream",
     "text": [
      "Info (NVML): NVML Shared Library Not Found. GPU usage metrics may not be reported. For more information, see https://docs.neptune.ai/help/nvml_error/\n"
     ]
    },
    {
     "name": "stdout",
     "output_type": "stream",
     "text": [
      "Remember to stop your run once you’ve finished logging your metadata (https://docs.neptune.ai/api/run#stop). It will be stopped automatically only when the notebook kernel/interactive console is terminated.\n"
     ]
    },
    {
     "name": "stderr",
     "output_type": "stream",
     "text": [
      "/Users/alextrasza/opt/anaconda3/envs/movielens100k/lib/python3.10/site-packages/neptune/new/handler.py:164: NeptuneDeprecationWarning: The object you're logging will be implicitly cast to a string. We'll end support of this behavior in `neptune-client==1.0.0`. To log the object as a string, use `str(object)` instead.\n",
      "  self._container.define(self._path, value, wait)\n"
     ]
    },
    {
     "ename": "KeyError",
     "evalue": "0",
     "output_type": "error",
     "traceback": [
      "\u001B[0;31m---------------------------------------------------------------------------\u001B[0m",
      "\u001B[0;31mKeyError\u001B[0m                                  Traceback (most recent call last)",
      "Cell \u001B[0;32mIn [36], line 18\u001B[0m\n\u001B[1;32m     16\u001B[0m \u001B[38;5;28;01mfor\u001B[39;00m hidden_size \u001B[38;5;129;01min\u001B[39;00m potential_models:\n\u001B[1;32m     17\u001B[0m     params[\u001B[38;5;124m\"\u001B[39m\u001B[38;5;124mhidden_size\u001B[39m\u001B[38;5;124m\"\u001B[39m] \u001B[38;5;241m=\u001B[39m hidden_size\n\u001B[0;32m---> 18\u001B[0m     \u001B[43mmain\u001B[49m\u001B[43m(\u001B[49m\u001B[43mparams\u001B[49m\u001B[43m)\u001B[49m\n",
      "File \u001B[0;32m~/Alex/直通硅谷/Recommendation System/MovieLens100K/src/train.py:183\u001B[0m, in \u001B[0;36mmain\u001B[0;34m(params)\u001B[0m\n\u001B[1;32m    180\u001B[0m val_dl \u001B[38;5;241m=\u001B[39m DataLoader(val_ds, batch_size\u001B[38;5;241m=\u001B[39mparams[\u001B[38;5;124m\"\u001B[39m\u001B[38;5;124mbs\u001B[39m\u001B[38;5;124m\"\u001B[39m], shuffle\u001B[38;5;241m=\u001B[39m\u001B[38;5;28;01mTrue\u001B[39;00m)\n\u001B[1;32m    182\u001B[0m \u001B[38;5;66;03m# Training\u001B[39;00m\n\u001B[0;32m--> 183\u001B[0m model \u001B[38;5;241m=\u001B[39m MovieRater_Simple(\u001B[43mtrain_ds\u001B[49m\u001B[43m[\u001B[49m\u001B[38;5;241;43m0\u001B[39;49m\u001B[43m]\u001B[49m[\u001B[38;5;241m0\u001B[39m]\u001B[38;5;241m.\u001B[39mshape[\u001B[38;5;241m0\u001B[39m], params[\u001B[38;5;124m\"\u001B[39m\u001B[38;5;124mhidden_size\u001B[39m\u001B[38;5;124m\"\u001B[39m], model_name\u001B[38;5;241m=\u001B[39m\u001B[38;5;124m\"\u001B[39m\u001B[38;5;124mmovierater_simple\u001B[39m\u001B[38;5;124m\"\u001B[39m)\n\u001B[1;32m    184\u001B[0m optimizer \u001B[38;5;241m=\u001B[39m optim\u001B[38;5;241m.\u001B[39mSGD(model\u001B[38;5;241m.\u001B[39mparameters(), lr\u001B[38;5;241m=\u001B[39mparams[\u001B[38;5;124m\"\u001B[39m\u001B[38;5;124mlr\u001B[39m\u001B[38;5;124m\"\u001B[39m], momentum\u001B[38;5;241m=\u001B[39m\u001B[38;5;241m0.9\u001B[39m)\n\u001B[1;32m    185\u001B[0m scheduler \u001B[38;5;241m=\u001B[39m optim\u001B[38;5;241m.\u001B[39mlr_scheduler\u001B[38;5;241m.\u001B[39mStepLR(optimizer, (params[\u001B[38;5;124m\"\u001B[39m\u001B[38;5;124mepochs\u001B[39m\u001B[38;5;124m\"\u001B[39m] \u001B[38;5;241m/\u001B[39m\u001B[38;5;241m/\u001B[39m \u001B[38;5;241m3\u001B[39m) \u001B[38;5;241m*\u001B[39m \u001B[38;5;241m2\u001B[39m)\n",
      "File \u001B[0;32m~/Alex/直通硅谷/Recommendation System/MovieLens100K/src/data_loader.py:17\u001B[0m, in \u001B[0;36mRating_Dataset.__getitem__\u001B[0;34m(self, item)\u001B[0m\n\u001B[1;32m     16\u001B[0m \u001B[38;5;28;01mdef\u001B[39;00m \u001B[38;5;21m__getitem__\u001B[39m(\u001B[38;5;28mself\u001B[39m, item):\n\u001B[0;32m---> 17\u001B[0m     \u001B[38;5;28;01mreturn\u001B[39;00m (torch\u001B[38;5;241m.\u001B[39mfrom_numpy(\u001B[38;5;28;43mself\u001B[39;49m\u001B[38;5;241;43m.\u001B[39;49m\u001B[43minputs\u001B[49m\u001B[43m[\u001B[49m\u001B[43mitem\u001B[49m\u001B[43m]\u001B[49m)\u001B[38;5;241m.\u001B[39mfloat(),\n\u001B[1;32m     18\u001B[0m             torch\u001B[38;5;241m.\u001B[39mfrom_numpy(np\u001B[38;5;241m.\u001B[39marray([\u001B[38;5;28mself\u001B[39m\u001B[38;5;241m.\u001B[39mlabels[item]]))\u001B[38;5;241m.\u001B[39mfloat(),\n\u001B[1;32m     19\u001B[0m             torch\u001B[38;5;241m.\u001B[39mfrom_numpy(np\u001B[38;5;241m.\u001B[39marray([\u001B[38;5;28mself\u001B[39m\u001B[38;5;241m.\u001B[39mids[item]])))\n",
      "\u001B[0;31mKeyError\u001B[0m: 0"
     ]
    }
   ],
   "source": [
    "from src.train import main\n",
    "potential_models = [\n",
    "    [512, 256, 128, 1],\n",
    "    # [512, 256, 128, 64, 1],\n",
    "    # [512, 256, 128, 64, 32, 1],\n",
    "    # [1024, 512, 256, 1]\n",
    "]\n",
    "\n",
    "params = {\n",
    "    \"lr\": LEARNING_RATE,\n",
    "    \"bs\": BATCH_SIZE,\n",
    "    \"hidden_size\": None,\n",
    "    \"epochs\": EPOCHS\n",
    "}\n",
    "\n",
    "for hidden_size in potential_models:\n",
    "    params[\"hidden_size\"] = hidden_size\n",
    "    main(params)"
   ],
   "metadata": {
    "collapsed": false,
    "pycharm": {
     "name": "#%%\n"
    }
   }
  },
  {
   "cell_type": "code",
   "execution_count": 37,
   "outputs": [
    {
     "ename": "KeyError",
     "evalue": "0",
     "output_type": "error",
     "traceback": [
      "\u001B[0;31m---------------------------------------------------------------------------\u001B[0m",
      "\u001B[0;31mKeyError\u001B[0m                                  Traceback (most recent call last)",
      "Cell \u001B[0;32mIn [37], line 11\u001B[0m\n\u001B[1;32m      9\u001B[0m test_ds \u001B[38;5;241m=\u001B[39m Rating_Dataset(test_input, test_labels, test_ids)\n\u001B[1;32m     10\u001B[0m test_dl \u001B[38;5;241m=\u001B[39m DataLoader(test_ds, batch_size\u001B[38;5;241m=\u001B[39mparams[\u001B[38;5;124m\"\u001B[39m\u001B[38;5;124mbs\u001B[39m\u001B[38;5;124m\"\u001B[39m], shuffle\u001B[38;5;241m=\u001B[39m\u001B[38;5;28;01mFalse\u001B[39;00m)\n\u001B[0;32m---> 11\u001B[0m model \u001B[38;5;241m=\u001B[39m MovieRater_Simple(\u001B[43mtest_ds\u001B[49m\u001B[43m[\u001B[49m\u001B[38;5;241;43m0\u001B[39;49m\u001B[43m]\u001B[49m[\u001B[38;5;241m0\u001B[39m]\u001B[38;5;241m.\u001B[39mshape[\u001B[38;5;241m0\u001B[39m], [\u001B[38;5;241m512\u001B[39m, \u001B[38;5;241m256\u001B[39m, \u001B[38;5;241m128\u001B[39m, \u001B[38;5;241m1\u001B[39m], model_name\u001B[38;5;241m=\u001B[39m\u001B[38;5;124m\"\u001B[39m\u001B[38;5;124mmovierater_simple\u001B[39m\u001B[38;5;124m\"\u001B[39m)\n\u001B[1;32m     12\u001B[0m saved_path \u001B[38;5;241m=\u001B[39m \u001B[38;5;124m\"\u001B[39m\u001B[38;5;124m./model/movierater_simple_best.pth\u001B[39m\u001B[38;5;124m\"\u001B[39m\n\u001B[1;32m     14\u001B[0m evaluate_model(test_dl, model, nn\u001B[38;5;241m.\u001B[39mMSELoss(), \u001B[38;5;28;01mNone\u001B[39;00m)\n",
      "File \u001B[0;32m~/Alex/直通硅谷/Recommendation System/MovieLens100K/src/data_loader.py:17\u001B[0m, in \u001B[0;36mRating_Dataset.__getitem__\u001B[0;34m(self, item)\u001B[0m\n\u001B[1;32m     16\u001B[0m \u001B[38;5;28;01mdef\u001B[39;00m \u001B[38;5;21m__getitem__\u001B[39m(\u001B[38;5;28mself\u001B[39m, item):\n\u001B[0;32m---> 17\u001B[0m     \u001B[38;5;28;01mreturn\u001B[39;00m (torch\u001B[38;5;241m.\u001B[39mfrom_numpy(\u001B[38;5;28;43mself\u001B[39;49m\u001B[38;5;241;43m.\u001B[39;49m\u001B[43minputs\u001B[49m\u001B[43m[\u001B[49m\u001B[43mitem\u001B[49m\u001B[43m]\u001B[49m)\u001B[38;5;241m.\u001B[39mfloat(),\n\u001B[1;32m     18\u001B[0m             torch\u001B[38;5;241m.\u001B[39mfrom_numpy(np\u001B[38;5;241m.\u001B[39marray([\u001B[38;5;28mself\u001B[39m\u001B[38;5;241m.\u001B[39mlabels[item]]))\u001B[38;5;241m.\u001B[39mfloat(),\n\u001B[1;32m     19\u001B[0m             torch\u001B[38;5;241m.\u001B[39mfrom_numpy(np\u001B[38;5;241m.\u001B[39marray([\u001B[38;5;28mself\u001B[39m\u001B[38;5;241m.\u001B[39mids[item]])))\n",
      "\u001B[0;31mKeyError\u001B[0m: 0"
     ]
    }
   ],
   "source": [
    "from src.data_preprocessing import prepare_data\n",
    "from src.evaluate import evaluate_model\n",
    "data = prepare_data(rating_path_train=TRAIN_SET_PATH,\n",
    "                        rating_path_test=TEST_SET_PATH,\n",
    "                        movie_path=\"./data/u.item\",\n",
    "                        user_path=\"./data/u.user\",\n",
    "                        validation=VALIDATION)\n",
    "test_input, test_labels, test_ids = data[\"test\"]\n",
    "test_ds = Rating_Dataset(test_input, test_labels, test_ids)\n",
    "test_dl = DataLoader(test_ds, batch_size=params[\"bs\"], shuffle=False)\n",
    "model = MovieRater_Simple(test_ds[0][0].shape[0], [512, 256, 128, 1], model_name=\"movierater_simple\")\n",
    "saved_path = \"./model/movierater_simple_best.pth\"\n",
    "\n",
    "evaluate_model(test_dl, model, nn.MSELoss(), None)"
   ],
   "metadata": {
    "collapsed": false,
    "pycharm": {
     "name": "#%%\n"
    }
   }
  },
  {
   "cell_type": "code",
   "execution_count": 25,
   "outputs": [
    {
     "data": {
      "text/plain": "(0.9598991787626288, 0.03200657534840945)"
     },
     "execution_count": 25,
     "metadata": {},
     "output_type": "execute_result"
    }
   ],
   "source": [
    "evaluate_model(test_dl, model, nn.MSELoss(), \"./model/movierater_simple_best.pth\")"
   ],
   "metadata": {
    "collapsed": false,
    "pycharm": {
     "name": "#%%\n"
    }
   }
  },
  {
   "cell_type": "code",
   "execution_count": 38,
   "outputs": [],
   "source": [
    "from src.data_preprocessing import prepare_data, break_input\n",
    "data = prepare_data(rating_path_train=TRAIN_SET_PATH,\n",
    "                        rating_path_test=TEST_SET_PATH,\n",
    "                        movie_path=\"./data/u.item\",\n",
    "                        user_path=\"./data/u.user\",\n",
    "                        validation=VALIDATION)"
   ],
   "metadata": {
    "collapsed": false,
    "pycharm": {
     "name": "#%%\n"
    }
   }
  },
  {
   "cell_type": "code",
   "execution_count": 39,
   "outputs": [
    {
     "data": {
      "text/plain": "{'numeric': array([[-0.99665156,  0.4247306 , -0.41667139, ..., -0.33574789,\n         -1.07999199,  1.26036036],\n        [-1.60189208, -0.83074628, -0.23143347, ..., -0.59684296,\n         -1.91351236, -0.23746381],\n        [-0.75386006,  0.62503407,  0.3219459 , ...,  2.4492662 ,\n          1.57015086, -1.20960931],\n        ...,\n        [-0.2680481 ,  0.49442628,  0.53066544, ..., -0.77090634,\n         -0.0151373 ,  0.45383965],\n        [-0.74205037,  0.65004813, -0.81582796, ...,  0.96972746,\n         -1.04233323, -0.75594141],\n        [ 1.47695576,  0.56412195, -0.69853313, ...,  1.57894929,\n          0.60947408, -0.87835974]]),\n 'gender': array([[0., 1.],\n        [0., 1.],\n        [0., 1.],\n        ...,\n        [0., 1.],\n        [1., 0.],\n        [1., 0.]]),\n 'occupation': array([[0., 0., 0., ..., 0., 0., 0.],\n        [0., 0., 0., ..., 0., 0., 1.],\n        [0., 0., 0., ..., 0., 0., 0.],\n        ...,\n        [0., 0., 0., ..., 1., 0., 0.],\n        [0., 0., 0., ..., 0., 0., 0.],\n        [0., 0., 0., ..., 0., 0., 0.]]),\n 'zip_code': array([[0., 0., 0., ..., 0., 0., 0.],\n        [0., 0., 0., ..., 0., 0., 0.],\n        [0., 0., 0., ..., 0., 0., 0.],\n        ...,\n        [0., 0., 0., ..., 0., 0., 0.],\n        [0., 0., 0., ..., 0., 0., 0.],\n        [0., 0., 0., ..., 0., 0., 0.]]),\n 'genre': array([[1., 1., 0., ..., 0., 0., 0.],\n        [0., 0., 0., ..., 0., 0., 0.],\n        [0., 0., 0., ..., 0., 1., 0.],\n        ...,\n        [0., 0., 0., ..., 1., 0., 0.],\n        [1., 0., 0., ..., 1., 1., 0.],\n        [0., 0., 0., ..., 0., 0., 0.]])}"
     },
     "execution_count": 39,
     "metadata": {},
     "output_type": "execute_result"
    }
   ],
   "source": [
    "data[\"train\"][0]"
   ],
   "metadata": {
    "collapsed": false,
    "pycharm": {
     "name": "#%%\n"
    }
   }
  },
  {
   "cell_type": "code",
   "execution_count": null,
   "outputs": [],
   "source": [],
   "metadata": {
    "collapsed": false,
    "pycharm": {
     "name": "#%%\n"
    }
   }
  }
 ],
 "metadata": {
  "kernelspec": {
   "display_name": "Python 3",
   "language": "python",
   "name": "python3"
  },
  "language_info": {
   "codemirror_mode": {
    "name": "ipython",
    "version": 2
   },
   "file_extension": ".py",
   "mimetype": "text/x-python",
   "name": "python",
   "nbconvert_exporter": "python",
   "pygments_lexer": "ipython2",
   "version": "2.7.6"
  }
 },
 "nbformat": 4,
 "nbformat_minor": 0
}